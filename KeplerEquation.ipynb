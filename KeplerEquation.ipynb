{
 "cells": [
  {
   "cell_type": "code",
   "execution_count": 1,
   "metadata": {},
   "outputs": [
    {
     "name": "stdout",
     "output_type": "stream",
     "text": [
      "Populating the interactive namespace from numpy and matplotlib\n"
     ]
    }
   ],
   "source": [
    "import numpy as np\n",
    "import math\n",
    "%pylab inline\n",
    "import matplotlib.pyplot as plt\n",
    "\n",
    "#Using NumPy's libraries.\n",
    "pi, sin, cos, tan, sqrt, arctan = np.pi, np.sin, np.cos, np.tan, np.sqrt, np.arctan"
   ]
  },
  {
   "cell_type": "markdown",
   "metadata": {},
   "source": [
    "# Ecuación de Kepler\n",
    "## Astronomía Práctica I - UdeA"
   ]
  },
  {
   "cell_type": "markdown",
   "metadata": {},
   "source": [
    "Esta página contiene el desarrollo realizado por Pablo Restrepo Valencia de la [práctica](https://github.com/pabloudea/AstronomiaPractica1/blob/master/II-211%20ECUACION%20DE%20KEPLER%20200510.pdf) sobre la solución a la [ecuación de Kepler](https://en.wikipedia.org/wiki/Kepler%27s_equation), construida por el profesor Ignacio Ferrín para el curso de astronomía práctica 1. \n",
    "\n",
    "Se desarrolla el algoritmo del método iterativo, descrito en la sección 3.c de la guía, para hallar la anomalía excentrica $E$ a partir de la [excentricidad]() $e$ y la [anomalía media]() $M$.\n",
    "\n",
    "\n"
   ]
  },
  {
   "cell_type": "markdown",
   "metadata": {},
   "source": [
    "Primero, definimos la función llamada $kepler(M,e,E) = M - E + e*sinE$, sobre la cual aplicaremos el método iterativo.\n",
    "\n",
    "Adicionalmente, se definen las funciones $anomaly$ y $radio$ para hallar la anomalía verdadera $\\theta$ y la distancia radial del foco al objeto $r$, respectivamente. &emsp;(Ver Ecuaciones $16-17$ de la guía.)\n",
    "\n",
    "\n"
   ]
  },
  {
   "cell_type": "code",
   "execution_count": 2,
   "metadata": {},
   "outputs": [],
   "source": [
    "#Definition of Kepler Equation\n",
    "def kepler(M,e,E):\n",
    "    func = M-E+e*sin(E)\n",
    "    return func\n",
    "\n",
    "#Formula to calculate the true anomaly from the eccentric anomaly E and the eccentricity e.\n",
    "def anomaly(e,E):\n",
    "    anom = 2*arctan(sqrt((1+e)/(1-e))*tan(E/2))\n",
    "    return anom\n",
    "\n",
    "#Formula to calculate the radius of the body. It's necessary know the semimajor axis a.\n",
    "radio = lambda a,e,E: a*(1 - e*cos(E))"
   ]
  },
  {
   "cell_type": "markdown",
   "metadata": {},
   "source": [
    "\n",
    "\n"
   ]
  },
  {
   "cell_type": "markdown",
   "metadata": {},
   "source": [
    "Una vez definidas dichas fórmulas, pasamos a desarrollar propiamente el código para el método iterativo. Este tiene como parámetros de entrada $M$, $e$, $\\Delta E$ y la precisión deseada $C$. Devuelve un arreglo con los valores finales para $E$, $\\theta$ y $r$, expresados en radianes $[rad]$ y unidades astronómicas $AU$. \n",
    "\n",
    "\n",
    "Además, para poder hallar la distancia radial $r$, se ingresa en el método un valor fijo para el semieje mayor de la órbita $a = 1.0$ (el cual puede ser modificado a la hora de llamar la función). También se incluye la opción de imprimir los resultados de cada iteración, como se muestra en las tablas $1-3$ de la sección 3.c $(printer)$ y la tabla con los resultados como se piden en la tarea 2, que a su vez, incluye los datos solicitados en la tarea 1 de la guía $(tarea)$. Estas opciones se omiten por defecto. $(printer = tarea = False)$.\n",
    "\n",
    "Como se puede ver en el diagrama de flujo de la figura 3 de la guía, el método consiste de dos ciclos, uno incrustado dentro del otro. El ciclo interno se encarga de encontrar cuando la función $kepler$ cambia de signo, mientras el externo genera la precisión definida por $C$.\n",
    "\n",
    "\n",
    "\n",
    "\n"
   ]
  },
  {
   "cell_type": "markdown",
   "metadata": {},
   "source": [
    "\n",
    "\n",
    "\n"
   ]
  },
  {
   "cell_type": "code",
   "execution_count": 25,
   "metadata": {},
   "outputs": [],
   "source": [
    "#Interactive Method defined in the practice by Ignacio Ferrín.\n",
    "#--------------------------------------------------------------\n",
    "#\n",
    "def Interactive(M,e,deltaE,C,a=1.0,printer=False, tarea=False):\n",
    "    \"\"\"Find the eccentric anomaly from Kepler's equation.\n",
    "    M: Mean anomaly, e: eccentricity, deltaE: Initial change, \n",
    "    a: Semi-major axis (1.0 AU as default), printer:Print the step\"\"\"\n",
    "    \n",
    "    E = np.array([])\n",
    "    r = np.array([])\n",
    "    theta = np.array([])\n",
    "\n",
    "    #Choose the initial points\n",
    "    E0 = 0\n",
    "    E1 = E0+deltaE\n",
    "    E = np.append(E,[E0,E1])\n",
    "\n",
    "    #Convert radians to degrees\n",
    "    deg = 180./pi\n",
    "    i=1\n",
    "    \n",
    "    #Obtain the desired precision\n",
    "    while not round(E[-1]-E[-2],7) <= round(C,7):\n",
    "        if printer or tarea: print(\"\\n Interacción %1d:\\n\"%(i))\n",
    "        \n",
    "        #Find a sign change\n",
    "        while round(kepler(M,e,E[-1]),7) > 0:\n",
    "            E0 = E[-1]\n",
    "            E1 += deltaE\n",
    "            E = np.append(E,[E1])\n",
    "            if printer:\n",
    "                print(\"E[rad] = %.6f, E[°] = %.6f, sen(E) = %.6f, e*sen(E) = %.6f, M-E+e*sen(E) = %.6f\"%(E1,E1*deg,sin(E1),e*sin(E1),kepler(M,e,E1)))\n",
    "        \n",
    "        true = round(anomaly(e,E[-1]),6)\n",
    "        radi = round(radio(a,e,E[-1]),6)\n",
    "        if tarea: print(\"\\nE[°]= %.6f \\nC= E(i)-E(i-1): %.6f \\ntheta [°] = %.6f \\nr [AU] = %.6f\"%(E[-2]*deg, E[-1]-E[-2], true*deg, radi))\n",
    "        deltaE = deltaE/10\n",
    "        E1 = E0+deltaE\n",
    "        i += 1\n",
    "        E = np.delete(E,-1)\n",
    "        \n",
    "    theta = np.append(theta,[true])\n",
    "    r = np.append( r, [radi] )\n",
    "    return round(E[-1],6), round(theta[-1],6), round(r[-1],6)\n"
   ]
  },
  {
   "cell_type": "markdown",
   "metadata": {},
   "source": [
    "\n",
    "\n"
   ]
  },
  {
   "cell_type": "markdown",
   "metadata": {},
   "source": [
    "A continuación presentamos los resultados de las tareas, para una órbita con semieje mayor $a = 1.0 AU$, $M = 1.11$ y $e = 0.9$. La tolerancia elegida es de $C = 1.0*10^{-6}$ y el paso en la iteración $\\Delta E = 0.5$\n",
    "\n",
    "Nótese como, a pesar de lo excéntrica de la órbita, el proceso requiere de pocas iteraciones para devolver el resultado."
   ]
  },
  {
   "cell_type": "markdown",
   "metadata": {},
   "source": [
    "\n",
    "\n",
    "\n"
   ]
  },
  {
   "cell_type": "code",
   "execution_count": 26,
   "metadata": {},
   "outputs": [
    {
     "name": "stdout",
     "output_type": "stream",
     "text": [
      "\n",
      " Interacción 1:\n",
      "\n",
      "\n",
      "E[°]= 85.943669 \n",
      "C= E(i)-E(i-1): 0.500000 \n",
      "theta [°] = 163.240489 \n",
      "r [AU] = 1.374532\n",
      "\n",
      " Interacción 2:\n",
      "\n",
      "\n",
      "E[°]= 108.861981 \n",
      "C= E(i)-E(i-1): 0.050000 \n",
      "theta [°] = 162.318084 \n",
      "r [AU] = 1.333163\n",
      "\n",
      " Interacción 3:\n",
      "\n",
      "\n",
      "E[°]= 111.440291 \n",
      "C= E(i)-E(i-1): 0.005000 \n",
      "theta [°] = 162.318084 \n",
      "r [AU] = 1.333163\n",
      "\n",
      " Interacción 4:\n",
      "\n",
      "\n",
      "E[°]= 111.554883 \n",
      "C= E(i)-E(i-1): 0.000500 \n",
      "theta [°] = 162.271216 \n",
      "r [AU] = 1.331072\n",
      "\n",
      " Interacción 5:\n",
      "\n",
      "\n",
      "E[°]= 111.554883 \n",
      "C= E(i)-E(i-1): 0.000100 \n",
      "theta [°] = 162.263710 \n",
      "r [AU] = 1.330737\n",
      "\n",
      " Interacción 6:\n",
      "\n",
      "\n",
      "E[°]= 111.557175 \n",
      "C= E(i)-E(i-1): 0.000005 \n",
      "theta [°] = 162.262679 \n",
      "r [AU] = 1.330691\n",
      "\n",
      " Interacción 7:\n",
      "\n",
      "\n",
      "E[°]= 111.557432 \n",
      "C= E(i)-E(i-1): 0.000001 \n",
      "theta [°] = 162.262679 \n",
      "r [AU] = 1.330691\n"
     ]
    },
    {
     "data": {
      "text/plain": [
       "(1.947044, 2.832018, 1.330691)"
      ]
     },
     "execution_count": 26,
     "metadata": {},
     "output_type": "execute_result"
    }
   ],
   "source": [
    "M = 1.11\n",
    "e = 0.9\n",
    "deltaE = 0.5\n",
    "C = 1E-6\n",
    "\n",
    "Interactive(M,e,deltaE,C,tarea=True)"
   ]
  }
 ],
 "metadata": {
  "kernelspec": {
   "display_name": "Python 3",
   "language": "python",
   "name": "python3"
  },
  "language_info": {
   "codemirror_mode": {
    "name": "ipython",
    "version": 3
   },
   "file_extension": ".py",
   "mimetype": "text/x-python",
   "name": "python",
   "nbconvert_exporter": "python",
   "pygments_lexer": "ipython3",
   "version": "3.7.6"
  }
 },
 "nbformat": 4,
 "nbformat_minor": 4
}
